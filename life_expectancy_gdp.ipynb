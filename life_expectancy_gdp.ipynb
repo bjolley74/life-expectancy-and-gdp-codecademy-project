{
 "cells": [
  {
   "cell_type": "markdown",
   "metadata": {},
   "source": [
    "# Life Expectancy and GDP project\n",
    "\n",
    "**Project Objectives**:\n",
    "* Complete a project to add to your portfolio\n",
    "* Use seaborn and Matplotlib to create visualizations\n",
    "* Become familiar with presenting and sharing data visualizations\n",
    "* Preprocess, explore, and analyze data"
   ]
  },
  {
   "cell_type": "code",
   "execution_count": 1,
   "metadata": {},
   "outputs": [],
   "source": [
    "import pandas as pd\n",
    "from matplotlib import pyplot as plt\n",
    "import seaborn"
   ]
  },
  {
   "cell_type": "code",
   "execution_count": 2,
   "metadata": {},
   "outputs": [],
   "source": [
    "all_data = pd.read_csv('all_data.csv')"
   ]
  },
  {
   "cell_type": "code",
   "execution_count": 9,
   "metadata": {},
   "outputs": [
    {
     "name": "stdout",
     "output_type": "stream",
     "text": [
      "['Mexico', 'United States of America', 'Germany', 'China', 'Zimbabwe', 'Chile']\n"
     ]
    }
   ],
   "source": [
    "def get_country_data(country, df):\n",
    "    return df[df['Country'] == country]\n",
    "\n",
    "def get_list_of_countries(df):\n",
    "    countries = set(df['Country'])\n",
    "    return list(countries)\n",
    "\n",
    "def plot_country_life_expectancy_over_time(country_df):\n",
    "    c = get_list_of_countries(country_df)\n",
    "    country_name = c[0]\n",
    "    \n",
    "    \n",
    "us = get_country_data('United States of America', all_data)\n",
    "mexico = get_country_data('Mexico', all_data)\n",
    "germany = get_country_data('Germany', all_data)\n",
    "china = get_country_data('China', all_data)\n",
    "zimbabwe = get_country_data('Zimbabwe', all_data)\n",
    "chile = get_country_data('Chile', all_data)"
   ]
  },
  {
   "cell_type": "code",
   "execution_count": null,
   "metadata": {},
   "outputs": [],
   "source": []
  }
 ],
 "metadata": {
  "kernelspec": {
   "display_name": "Python 3",
   "language": "python",
   "name": "python3"
  },
  "language_info": {
   "codemirror_mode": {
    "name": "ipython",
    "version": 3
   },
   "file_extension": ".py",
   "mimetype": "text/x-python",
   "name": "python",
   "nbconvert_exporter": "python",
   "pygments_lexer": "ipython3",
   "version": "3.7.1"
  }
 },
 "nbformat": 4,
 "nbformat_minor": 4
}
